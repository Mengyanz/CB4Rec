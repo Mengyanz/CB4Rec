{
 "cells": [
  {
   "cell_type": "code",
   "execution_count": null,
   "metadata": {},
   "outputs": [],
   "source": [
    "\n",
    "from collections import defaultdict,Counter\n",
    "from tqdm import tqdm\n",
    "import numpy as np\n",
    "import re\n",
    "import os\n",
    "import pickle\n",
    "from datetime import datetime \n",
    "date_format_str = '%m/%d/%Y %I:%M:%S %p'"
   ]
  },
  {
   "cell_type": "code",
   "execution_count": null,
   "metadata": {},
   "outputs": [],
   "source": [
    "data_path = \"/home/v-mezhang/blob/data/large/train_valid/behaviors.tsv\"\n",
    "valid_data_path = \"/home/v-mezhang/blob/data/large/train_valid/behaviors-valid.tsv\""
   ]
  },
  {
   "cell_type": "code",
   "execution_count": null,
   "metadata": {},
   "outputs": [],
   "source": [
    "valid_user_count = {}\n",
    "\n",
    "for l in tqdm(open(valid_data_path, \"r\")):\n",
    "    imp_id, uid, t, his, imprs = l.strip(\"\\n\").split(\"\\t\")\n",
    "    if uid not in valid_user_count:\n",
    "        valid_user_count[uid] = 0\n",
    "    else:\n",
    "        valid_user_count[uid] += 1"
   ]
  },
  {
   "cell_type": "code",
   "execution_count": null,
   "metadata": {},
   "outputs": [],
   "source": [
    "len(valid_user_count)"
   ]
  },
  {
   "cell_type": "code",
   "execution_count": null,
   "metadata": {},
   "outputs": [],
   "source": [
    "len(valid_user)"
   ]
  },
  {
   "cell_type": "code",
   "execution_count": null,
   "metadata": {},
   "outputs": [],
   "source": [
    "user_his = {}\n",
    "user_count = {}\n",
    "\n",
    "for l in tqdm(open(data_path, \"r\")):\n",
    "    imp_id, uid, t, his, imprs = l.strip(\"\\n\").split(\"\\t\")\n",
    "    his = his.split()\n",
    "    if uid not in user_his:\n",
    "        user_his[uid] = len(his)\n",
    "\n",
    "    if uid not in user_count:\n",
    "        user_count[uid] = 0\n",
    "    else:\n",
    "        user_count[uid] += 1"
   ]
  },
  {
   "cell_type": "code",
   "execution_count": null,
   "metadata": {},
   "outputs": [],
   "source": [
    "import matplotlib.pyplot as plt\n",
    "plt.hist(list(user_his.values()))"
   ]
  },
  {
   "cell_type": "code",
   "execution_count": null,
   "metadata": {},
   "outputs": [],
   "source": [
    "plt.hist(list(user_count.values()))"
   ]
  },
  {
   "cell_type": "code",
   "execution_count": null,
   "metadata": {},
   "outputs": [],
   "source": [
    "temp = 0\n",
    "total_imprs = 0 \n",
    "valid_high_part_uids = []\n",
    "\n",
    "for key, i in user_count.items():\n",
    "    if key in valid_user_count and i >= 15 and user_his[key] >= 50:\n",
    "        temp+= 1\n",
    "        total_imprs += int(i)\n",
    "        valid_high_part_uids.append(key)"
   ]
  },
  {
   "cell_type": "code",
   "execution_count": null,
   "metadata": {},
   "outputs": [],
   "source": [
    "temp"
   ]
  },
  {
   "cell_type": "code",
   "execution_count": null,
   "metadata": {},
   "outputs": [],
   "source": [
    "total_imprs"
   ]
  },
  {
   "cell_type": "code",
   "execution_count": null,
   "metadata": {},
   "outputs": [],
   "source": [
    "selected_users = np.random.choice(valid_high_part_uids, replace=False, size = 1000)"
   ]
  },
  {
   "cell_type": "code",
   "execution_count": null,
   "metadata": {},
   "outputs": [],
   "source": [
    "selected_users"
   ]
  },
  {
   "cell_type": "code",
   "execution_count": null,
   "metadata": {},
   "outputs": [],
   "source": [
    "with open(\"/home/v-mezhang/blob/data/large/train_valid/selected_users.pkl\", \"wb\") as f:\n",
    "        pickle.dump(selected_users, f)"
   ]
  },
  {
   "cell_type": "code",
   "execution_count": null,
   "metadata": {},
   "outputs": [],
   "source": [
    "np.save(\"/home/v-mezhang/blob/data/large/train_valid/selected_users\", selected_users)"
   ]
  },
  {
   "cell_type": "code",
   "execution_count": null,
   "metadata": {},
   "outputs": [],
   "source": [
    "selected_users = np.load(\"/home/v-mezhang/blob/data/large/train_valid/selected_users.npy\")"
   ]
  },
  {
   "cell_type": "code",
   "execution_count": null,
   "metadata": {},
   "outputs": [],
   "source": [
    "len(selected_users)"
   ]
  },
  {
   "cell_type": "code",
   "execution_count": null,
   "metadata": {},
   "outputs": [],
   "source": [
    "save_file = \"/home/v-mezhang/blob/data/large/train_valid/valid_high_part_user_behaviors.tsv\"\n",
    "\n",
    "with open(save_file, 'wb') as file:\n",
    "    for l in tqdm(open(data_path, \"r\")):\n",
    "        print(l)\n",
    "        imp_id, uid, t, his, imprs = l.strip(\"\\n\").split(\"\\t\")\n",
    "        his = his.split()\n",
    "        if uid in high_part_uids:\n",
    "            file.write(l)\n",
    "            print(uid)\n",
    "        "
   ]
  },
  {
   "cell_type": "code",
   "execution_count": null,
   "metadata": {},
   "outputs": [],
   "source": []
  }
 ],
 "metadata": {
  "interpreter": {
   "hash": "d4d1e4263499bec80672ea0156c357c1ee493ec2b1c70f0acce89fc37c4a6abe"
  },
  "kernelspec": {
   "display_name": "Python 3.6.9 64-bit ('base': conda)",
   "language": "python",
   "name": "python3"
  },
  "language_info": {
   "codemirror_mode": {
    "name": "ipython",
    "version": 3
   },
   "file_extension": ".py",
   "mimetype": "text/x-python",
   "name": "python",
   "nbconvert_exporter": "python",
   "pygments_lexer": "ipython3",
   "version": "3.6.9"
  },
  "orig_nbformat": 4
 },
 "nbformat": 4,
 "nbformat_minor": 2
}
