{
 "cells": [
  {
   "cell_type": "code",
   "execution_count": 2,
   "metadata": {},
   "outputs": [],
   "source": [
    "\n",
    "from collections import defaultdict,Counter\n",
    "from tqdm import tqdm\n",
    "import numpy as np\n",
    "import re\n",
    "import os\n",
    "import pickle\n",
    "import matplotlib.pyplot as plt\n",
    "from datetime import datetime \n",
    "date_format_str = '%m/%d/%Y %I:%M:%S %p'"
   ]
  },
  {
   "cell_type": "code",
   "execution_count": 3,
   "metadata": {},
   "outputs": [],
   "source": [
    "news_path = \"/home/v-mezhang/blob/data/large/train_valid/news.tsv\""
   ]
  },
  {
   "cell_type": "code",
   "execution_count": 17,
   "metadata": {},
   "outputs": [
    {
     "name": "stderr",
     "output_type": "stream",
     "text": [
      "173550it [00:00, 264613.07it/s]\n"
     ]
    }
   ],
   "source": [
    "cat_count = {}\n",
    "subcat_count = {}\n",
    "news_dict = {}\n",
    "subcat_list = defaultdict(list)\n",
    "\n",
    "for l in tqdm(open(news_path, \"r\", encoding='utf-8')):\n",
    "    nid, vert, subvert, title, abst, url, ten, aen = l.strip(\"\\n\").split(\"\\t\")\n",
    "    if nid not in news_dict:\n",
    "        news_dict[nid] = l\n",
    "        if vert not in cat_count:\n",
    "            cat_count[vert] = 1\n",
    "        else:\n",
    "            cat_count[vert] += 1\n",
    "        subcat_list[subvert].append(nid)\n",
    "        if subvert not in subcat_count:\n",
    "            subcat_count[subvert] = 1\n",
    "        else:\n",
    "            subcat_count[subvert] += 1"
   ]
  },
  {
   "cell_type": "code",
   "execution_count": 20,
   "metadata": {},
   "outputs": [
    {
     "name": "stdout",
     "output_type": "stream",
     "text": [
      "1000\n",
      "2000\n",
      "2000\n",
      "3000\n",
      "4000\n",
      "4000\n",
      "4000\n",
      "5000\n",
      "5000\n",
      "6000\n",
      "6000\n",
      "7000\n",
      "8000\n",
      "8000\n",
      "9000\n",
      "9000\n",
      "9000\n",
      "9000\n",
      "9000\n",
      "9000\n",
      "9000\n",
      "9000\n",
      "9000\n",
      "10000\n",
      "10000\n",
      "11000\n",
      "11000\n",
      "11000\n",
      "11000\n",
      "11000\n"
     ]
    },
    {
     "data": {
      "text/plain": [
       "57"
      ]
     },
     "execution_count": 20,
     "metadata": {},
     "output_type": "execute_result"
    }
   ],
   "source": [
    "cand_news_file = \"/home/v-mezhang/blob/data/large/train_valid/cand_news.tsv\"\n",
    "\n",
    "subcat_set = []\n",
    "num_news = 0\n",
    "\n",
    "with open(cand_news_file, 'w', encoding='utf-8') as file:\n",
    "    for key, value in subcat_count.items():\n",
    "        if value > 200 and key not in set(subcat_set):\n",
    "            subcat_set.append(key)\n",
    "            \n",
    "            sample_list = np.random.choice(subcat_list[key], replace=False, size = 200)\n",
    "            for nid in sample_list:\n",
    "                file.write(news_dict[nid])\n",
    "                num_news+=1\n",
    "        if num_news % 1000 == 0:\n",
    "            print(num_news)\n",
    "\n",
    "    \n",
    "len(subcat_set)"
   ]
  },
  {
   "cell_type": "code",
   "execution_count": 21,
   "metadata": {},
   "outputs": [
    {
     "data": {
      "text/plain": [
       "11400"
      ]
     },
     "execution_count": 21,
     "metadata": {},
     "output_type": "execute_result"
    }
   ],
   "source": [
    "num_news"
   ]
  },
  {
   "cell_type": "code",
   "execution_count": 9,
   "metadata": {},
   "outputs": [
    {
     "data": {
      "text/plain": [
       "(array([265.,  11.,   6.,   1.,   0.,   0.,   0.,   0.,   1.,   1.]),\n",
       " array([1.00000e+00, 1.48820e+03, 2.97540e+03, 4.46260e+03, 5.94980e+03,\n",
       "        7.43700e+03, 8.92420e+03, 1.04114e+04, 1.18986e+04, 1.33858e+04,\n",
       "        1.48730e+04]),\n",
       " <BarContainer object of 10 artists>)"
      ]
     },
     "execution_count": 9,
     "metadata": {},
     "output_type": "execute_result"
    },
    {
     "data": {
      "image/png": "[encoded data removed]",
      "text/plain": [
       "<Figure size 432x288 with 1 Axes>"
      ]
     },
     "metadata": {
      "needs_background": "light"
     },
     "output_type": "display_data"
    }
   ],
   "source": [
    "plt.hist(list(subcat_count.values()))"
   ]
  },
  {
   "cell_type": "code",
   "execution_count": null,
   "metadata": {},
   "outputs": [],
   "source": [
    "data_path = \"/home/v-mezhang/blob/data/large/train_valid/behaviors.tsv\"\n",
    "valid_data_path = \"/home/v-mezhang/blob/data/large/train_valid/behaviors-valid.tsv\""
   ]
  },
  {
   "cell_type": "code",
   "execution_count": null,
   "metadata": {},
   "outputs": [],
   "source": [
    "valid_user_count = {}\n",
    "\n",
    "for l in tqdm(open(valid_data_path, \"r\")):\n",
    "    imp_id, uid, t, his, imprs = l.strip(\"\\n\").split(\"\\t\")\n",
    "    if uid not in valid_user_count:\n",
    "        valid_user_count[uid] = 0\n",
    "    else:\n",
    "        valid_user_count[uid] += 1"
   ]
  },
  {
   "cell_type": "code",
   "execution_count": null,
   "metadata": {},
   "outputs": [],
   "source": [
    "len(valid_user_count)"
   ]
  },
  {
   "cell_type": "code",
   "execution_count": null,
   "metadata": {},
   "outputs": [],
   "source": [
    "len(valid_user)"
   ]
  },
  {
   "cell_type": "code",
   "execution_count": null,
   "metadata": {},
   "outputs": [],
   "source": [
    "user_his = {}\n",
    "user_count = {}\n",
    "\n",
    "for l in tqdm(open(data_path, \"r\")):\n",
    "    imp_id, uid, t, his, imprs = l.strip(\"\\n\").split(\"\\t\")\n",
    "    his = his.split()\n",
    "    if uid not in user_his:\n",
    "        user_his[uid] = len(his)\n",
    "\n",
    "    if uid not in user_count:\n",
    "        user_count[uid] = 0\n",
    "    else:\n",
    "        user_count[uid] += 1"
   ]
  },
  {
   "cell_type": "code",
   "execution_count": null,
   "metadata": {},
   "outputs": [],
   "source": [
    "\n",
    "plt.hist(list(user_his.values()))"
   ]
  },
  {
   "cell_type": "code",
   "execution_count": null,
   "metadata": {},
   "outputs": [],
   "source": [
    "plt.hist(list(user_count.values()))"
   ]
  },
  {
   "cell_type": "code",
   "execution_count": null,
   "metadata": {},
   "outputs": [],
   "source": [
    "temp = 0\n",
    "total_imprs = 0 \n",
    "valid_high_part_uids = []\n",
    "\n",
    "for key, i in user_count.items():\n",
    "    if key in valid_user_count and i >= 15 and user_his[key] >= 50:\n",
    "        temp+= 1\n",
    "        total_imprs += int(i)\n",
    "        valid_high_part_uids.append(key)"
   ]
  },
  {
   "cell_type": "code",
   "execution_count": null,
   "metadata": {},
   "outputs": [],
   "source": [
    "temp"
   ]
  },
  {
   "cell_type": "code",
   "execution_count": null,
   "metadata": {},
   "outputs": [],
   "source": [
    "total_imprs"
   ]
  },
  {
   "cell_type": "code",
   "execution_count": null,
   "metadata": {},
   "outputs": [],
   "source": [
    "selected_users = np.random.choice(valid_high_part_uids, replace=False, size = 1000)"
   ]
  },
  {
   "cell_type": "code",
   "execution_count": null,
   "metadata": {},
   "outputs": [],
   "source": [
    "selected_users"
   ]
  },
  {
   "cell_type": "code",
   "execution_count": null,
   "metadata": {},
   "outputs": [],
   "source": [
    "with open(\"/home/v-mezhang/blob/data/large/train_valid/selected_users.pkl\", \"wb\") as f:\n",
    "        pickle.dump(selected_users, f)"
   ]
  },
  {
   "cell_type": "code",
   "execution_count": null,
   "metadata": {},
   "outputs": [],
   "source": [
    "np.save(\"/home/v-mezhang/blob/data/large/train_valid/selected_users\", selected_users)"
   ]
  },
  {
   "cell_type": "code",
   "execution_count": null,
   "metadata": {},
   "outputs": [],
   "source": [
    "selected_users = np.load(\"/home/v-mezhang/blob/data/large/train_valid/selected_users.npy\")"
   ]
  },
  {
   "cell_type": "code",
   "execution_count": null,
   "metadata": {},
   "outputs": [],
   "source": [
    "len(selected_users)"
   ]
  },
  {
   "cell_type": "code",
   "execution_count": null,
   "metadata": {},
   "outputs": [],
   "source": [
    "save_file = \"/home/v-mezhang/blob/data/large/train_valid/valid_high_part_user_behaviors.tsv\"\n",
    "\n",
    "with open(save_file, 'wb') as file:\n",
    "    for l in tqdm(open(data_path, \"r\")):\n",
    "        print(l)\n",
    "        imp_id, uid, t, his, imprs = l.strip(\"\\n\").split(\"\\t\")\n",
    "        his = his.split()\n",
    "        if uid in high_part_uids:\n",
    "            file.write(l)\n",
    "            print(uid)\n",
    "        "
   ]
  },
  {
   "cell_type": "code",
   "execution_count": null,
   "metadata": {},
   "outputs": [],
   "source": []
  }
 ],
 "metadata": {
  "interpreter": {
   "hash": "d4d1e4263499bec80672ea0156c357c1ee493ec2b1c70f0acce89fc37c4a6abe"
  },
  "kernelspec": {
   "display_name": "Python 3.6.9 64-bit ('base': conda)",
   "language": "python",
   "name": "python3"
  },
  "language_info": {
   "codemirror_mode": {
    "name": "ipython",
    "version": 3
   },
   "file_extension": ".py",
   "mimetype": "text/x-python",
   "name": "python",
   "nbconvert_exporter": "python",
   "pygments_lexer": "ipython3",
   "version": "3.6.9"
  },
  "orig_nbformat": 4
 },
 "nbformat": 4,
 "nbformat_minor": 2
}
