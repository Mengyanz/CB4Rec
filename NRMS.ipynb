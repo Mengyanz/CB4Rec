{
 "cells": [
  {
   "cell_type": "code",
   "execution_count": 1,
   "metadata": {},
   "outputs": [],
   "source": [
    "from pathlib import Path\n",
    "import time\n",
    "import datetime\n",
    "from tqdm import tqdm\n",
    "from collections import defaultdict, Counter\n",
    "import copy\n",
    "import random\n",
    "import re\n",
    "import numpy as np\n",
    "import os\n",
    "from sklearn.metrics import roc_auc_score\n",
    "import pickle\n",
    "from datetime import datetime \n",
    "import math\n",
    "import uncertainty_toolbox as utc\n",
    "    "
   ]
  },
  {
   "cell_type": "code",
   "execution_count": 2,
   "metadata": {},
   "outputs": [],
   "source": [
    "os.environ['CUDA_VISIBLE_DEVICES'] = \"0\""
   ]
  },
  {
   "cell_type": "code",
   "execution_count": 3,
   "metadata": {},
   "outputs": [],
   "source": [
    "import torch\n",
    "from torch.utils.data import Dataset, DataLoader\n",
    "from torch import nn\n",
    "import torch.optim as optim\n",
    "import torch.nn.functional as F"
   ]
  },
  {
   "cell_type": "code",
   "execution_count": 4,
   "metadata": {},
   "outputs": [],
   "source": [
    "device = torch.device(\"cuda:0\")"
   ]
  },
  {
   "cell_type": "code",
   "execution_count": 5,
   "metadata": {},
   "outputs": [],
   "source": [
    "torch.cuda.set_device(device)"
   ]
  },
  {
   "cell_type": "code",
   "execution_count": 6,
   "metadata": {},
   "outputs": [],
   "source": [
    "dataset = 'demo/'\n",
    "\n",
    "data_path = Path(\"/home/v-mezhang/blob/data/\" + str(dataset) + \"utils/\")\n",
    "model_path = Path(\"/home/v-mezhang/blob/model/\" + str(dataset))\n",
    "\n",
    "date_format_str = '%m/%d/%Y %I:%M:%S %p'\n",
    "\n",
    "# sys.stdout = open(model_path / 'output.txt', \"w\")\n",
    "# print(model_path)\n",
    "# sys.stdout.flush()"
   ]
  },
  {
   "cell_type": "code",
   "execution_count": 7,
   "metadata": {},
   "outputs": [],
   "source": [
    "npratio = 4\n",
    "max_his_len = 50\n",
    "min_word_cnt = 3\n",
    "max_title_len = 30"
   ]
  },
  {
   "cell_type": "code",
   "execution_count": 8,
   "metadata": {},
   "outputs": [],
   "source": [
    "batch_size = 32\n",
    "epoch = 1\n",
    "lr=0.0001\n",
    "name = 'nrms_' + dataset[:-1]\n",
    "retrain = False\n",
    "eva_times = 2"
   ]
  },
  {
   "cell_type": "markdown",
   "metadata": {},
   "source": [
    "# collect impressions"
   ]
  },
  {
   "cell_type": "code",
   "execution_count": 9,
   "metadata": {},
   "outputs": [],
   "source": [
    "with open(data_path/'train_sam_uid.pkl', 'rb') as f:\n",
    "    train_sam = pickle.load(f)\n",
    "\n",
    "with open(data_path/'sorted_train_sam_uid.pkl', 'rb') as f:\n",
    "    sorted_train_sam = pickle.load(f)\n",
    "    \n",
    "with open(data_path/'sorted_valid_sam_uid.pkl', 'rb') as f:\n",
    "    valid_sam = pickle.load(f)\n",
    "\n",
    "if os.path.exists(data_path/'test_sam_uid.pkl'):    \n",
    "    with open(data_path/'test_sam_uid.pkl', 'rb') as f:\n",
    "        test_sam = pickle.load(f)"
   ]
  },
  {
   "cell_type": "markdown",
   "metadata": {},
   "source": [
    "# News Preprocess"
   ]
  },
  {
   "cell_type": "code",
   "execution_count": 10,
   "metadata": {},
   "outputs": [],
   "source": [
    "with open(data_path/'nid2index.pkl', 'rb') as f:\n",
    "    nid2index = pickle.load(f)\n",
    "    \n",
    "with open(data_path/'vocab_dict.pkl', 'rb') as f:\n",
    "    vocab_dict = pickle.load(f)\n",
    "\n",
    "embedding_matrix = np.load(data_path/'embedding.npy')\n",
    "news_index = np.load(data_path /'news_index.npy')"
   ]
  },
  {
   "cell_type": "code",
   "execution_count": 11,
   "metadata": {},
   "outputs": [],
   "source": [
    "if os.path.exists(data_path/'test_nid2index.pkl'):\n",
    "    with open(data_path/'test_nid2index.pkl', 'rb') as f:\n",
    "        test_nid2index = pickle.load(f)\n",
    "\n",
    "    test_news_index = np.load(data_path /'test_news_index.npy')\n",
    "else: # TODO: for now use valid to do test (cb)\n",
    "    test_nid2index = nid2index\n",
    "    test_news_index = news_index\n",
    "    test_sam = valid_sam"
   ]
  },
  {
   "cell_type": "code",
   "execution_count": 12,
   "metadata": {},
   "outputs": [],
   "source": [
    "def cal_ctr(samples, news_click_count, news_impr_count, interval_time,):\n",
    "    for l in tqdm(samples):\n",
    "        pos, neg, his, uid, tsp = l\n",
    "        tsp = datetime.strptime(tsp,date_format_str)\n",
    "        tidx = int((tsp - start_time).total_seconds()/interval_time) \n",
    "        if type(pos) is list:\n",
    "            for i in pos:\n",
    "                nidx = nid2index[i]\n",
    "                news_click_count[nidx, tidx] += 1\n",
    "                news_impr_count[nidx, tidx] += 1\n",
    "        else:\n",
    "            nidx = nid2index[pos]\n",
    "            news_click_count[nidx, tidx] += 1\n",
    "            news_impr_count[nidx, tidx] += 1\n",
    "\n",
    "        for i in neg:\n",
    "            nidx = nid2index[i]\n",
    "            news_impr_count[nidx, tidx] += 1\n",
    "    return news_click_count, news_impr_count"
   ]
  },
  {
   "cell_type": "markdown",
   "metadata": {},
   "source": [
    "# News Pool"
   ]
  },
  {
   "cell_type": "code",
   "execution_count": 13,
   "metadata": {},
   "outputs": [
    {
     "name": "stdout",
     "output_type": "stream",
     "text": [
      "28604\n",
      "168\n"
     ]
    },
    {
     "name": "stderr",
     "output_type": "stream",
     "text": [
      "100%|██████████| 34747/34747 [00:01<00:00, 23724.54it/s]\n",
      "100%|██████████| 7538/7538 [00:00<00:00, 28535.10it/s]\n"
     ]
    }
   ],
   "source": [
    "\n",
    "interval_time = 3600\n",
    "start_time =  datetime.strptime(sorted_train_sam[0][-1],date_format_str)\n",
    "# print(start_time)\n",
    "end_time = datetime.strptime(valid_sam[-1][-1],date_format_str)\n",
    "nt = int((end_time - start_time).total_seconds()/interval_time) + 1 \n",
    "print(len(nid2index))\n",
    "print(nt)\n",
    "news_click_count = np.zeros((len(nid2index), nt), dtype=float)\n",
    "news_impr_count = np.ones((len(nid2index), nt), dtype=float) * 100 # assume 100 times init\n",
    "\n",
    "news_click_count, news_impr_count = cal_ctr(train_sam, news_click_count, news_impr_count, interval_time)\n",
    "news_click_count, news_impr_count = cal_ctr(valid_sam, news_click_count, news_impr_count, interval_time)"
   ]
  },
  {
   "cell_type": "code",
   "execution_count": 14,
   "metadata": {},
   "outputs": [],
   "source": [
    "# news_ctr = np.zeros_like(news_click_count)\n",
    "# for i in tqdm(range(news_click_count.shape[0])):\n",
    "#     for j in range(news_click_count.shape[1]):\n",
    "#         if news_impr_count[i,j] == 0:\n",
    "#             assert news_click_count[i,j] == 0\n",
    "#             news_ctr[i,j] = 0\n",
    "#         else:\n",
    "#             news_ctr[i,j] = news_click_count[i,j]/news_impr_count[i,j]\n",
    "news_ctr = news_click_count/news_impr_count"
   ]
  },
  {
   "cell_type": "code",
   "execution_count": 15,
   "metadata": {},
   "outputs": [
    {
     "data": {
      "text/plain": [
       "104"
      ]
     },
     "execution_count": 15,
     "metadata": {},
     "output_type": "execute_result"
    }
   ],
   "source": [
    "import matplotlib.pyplot as plt\n",
    "# news_ctr = news_click_count/news_impr_count\n",
    "# plt.imshow(news_ctr[:,166])\n",
    "# plt.colorbar()\n",
    "tidx = 111\n",
    "nonzero = news_ctr[:,tidx][news_ctr[:, tidx] > 0]\n",
    "len(nonzero)"
   ]
  },
  {
   "cell_type": "code",
   "execution_count": 16,
   "metadata": {},
   "outputs": [
    {
     "data": {
      "text/plain": [
       "(array([29., 25., 33., 19., 11.,  7., 12., 18., 10.,  4.]),\n",
       " array([ 15. ,  38.5,  62. ,  85.5, 109. , 132.5, 156. , 179.5, 203. ,\n",
       "        226.5, 250. ]),\n",
       " <BarContainer object of 10 artists>)"
      ]
     },
     "execution_count": 16,
     "metadata": {},
     "output_type": "execute_result"
    },
    {
     "data": {
      "image/png": "[encoded data removed]",
      "text/plain": [
       "<Figure size 432x288 with 1 Axes>"
      ]
     },
     "metadata": {
      "needs_background": "light"
     },
     "output_type": "display_data"
    }
   ],
   "source": [
    "nonzero_count = []\n",
    "for i in range(news_click_count.shape[1]):\n",
    "    nonzero = news_ctr[:,i][news_ctr[:, i] > 0]\n",
    "    nonzero_count.append(len(nonzero))\n",
    "plt.hist(nonzero_count)"
   ]
  },
  {
   "cell_type": "markdown",
   "metadata": {},
   "source": [
    "# Dataset & DataLoader"
   ]
  },
  {
   "cell_type": "code",
   "execution_count": 18,
   "metadata": {},
   "outputs": [],
   "source": [
    "def newsample(nnn, ratio):\n",
    "    if ratio > len(nnn):\n",
    "        return nnn + [\"<unk>\"] * (ratio - len(nnn))\n",
    "    else:\n",
    "        return random.sample(nnn, ratio)"
   ]
  },
  {
   "cell_type": "code",
   "execution_count": 19,
   "metadata": {},
   "outputs": [],
   "source": [
    "class TrainDataset(Dataset):\n",
    "    def __init__(self, samples, nid2index, news_index):\n",
    "        self.news_index = news_index\n",
    "        self.nid2index = nid2index\n",
    "        self.samples = samples\n",
    "        \n",
    "    def __len__(self):\n",
    "        return len(self.samples)\n",
    "    \n",
    "    def __getitem__(self, idx):\n",
    "        # pos, neg, his, neg_his\n",
    "        pos, neg, his, uid, tsp = self.samples[idx]\n",
    "        neg = newsample(neg, npratio)\n",
    "        candidate_news = [pos] + neg\n",
    "        # print('pos: ', pos)\n",
    "        # for n in candidate_news:\n",
    "        #     print(n)\n",
    "        #     print(self.nid2index[n])\n",
    "        candidate_news = self.news_index[[self.nid2index[n] for n in candidate_news]]\n",
    "        his = [self.nid2index[n] for n in his] + [0] * (max_his_len - len(his))\n",
    "        his = self.news_index[his]\n",
    "        \n",
    "        label = np.array(0)\n",
    "        return candidate_news, his, label"
   ]
  },
  {
   "cell_type": "code",
   "execution_count": 20,
   "metadata": {},
   "outputs": [],
   "source": [
    "class NewsDataset(Dataset):\n",
    "    def __init__(self, news_index):\n",
    "        self.news_index = news_index\n",
    "        \n",
    "    def __len__(self):\n",
    "        return len(self.news_index)\n",
    "    \n",
    "    def __getitem__(self, idx):\n",
    "        return self.news_index[idx]"
   ]
  },
  {
   "cell_type": "code",
   "execution_count": 21,
   "metadata": {},
   "outputs": [],
   "source": [
    "news_dataset = NewsDataset(news_index)"
   ]
  },
  {
   "cell_type": "code",
   "execution_count": 22,
   "metadata": {},
   "outputs": [],
   "source": [
    "class UserDataset(Dataset):\n",
    "    def __init__(self, \n",
    "                 samples,\n",
    "                 news_vecs,\n",
    "                 nid2index):\n",
    "        self.samples = samples\n",
    "        self.news_vecs = news_vecs\n",
    "        self.nid2index = nid2index\n",
    "    \n",
    "    def __len__(self):\n",
    "        return len(self.samples)\n",
    "    \n",
    "    def __getitem__(self, idx):\n",
    "        poss, negs, his, uid, tsp = self.samples[idx]\n",
    "        his = [self.nid2index[n] for n in his] + [0] * (max_his_len - len(his))\n",
    "        his = self.news_vecs[his]\n",
    "        return his, tsp"
   ]
  },
  {
   "cell_type": "markdown",
   "metadata": {},
   "source": [
    "# NRMS"
   ]
  },
  {
   "cell_type": "code",
   "execution_count": 23,
   "metadata": {},
   "outputs": [],
   "source": [
    "class ScaledDotProductAttention(nn.Module):\n",
    "    def __init__(self, d_k):\n",
    "        super(ScaledDotProductAttention, self).__init__()\n",
    "        self.d_k = d_k\n",
    "\n",
    "    def forward(self, Q, K, V, attn_mask=None):\n",
    "        scores = torch.matmul(Q, K.transpose(-1, -2)) / np.sqrt(self.d_k)\n",
    "        scores = torch.exp(scores)\n",
    "        if attn_mask is not None:\n",
    "            scores = scores * attn_mask\n",
    "        attn = scores / (torch.sum(scores, dim=-1, keepdim=True)  + 1e-8)\n",
    "        \n",
    "        context = torch.matmul(attn, V)\n",
    "        return context, attn\n",
    "\n",
    "class MultiHeadAttention(nn.Module):\n",
    "    def __init__(self, d_model, n_heads, d_k, d_v):\n",
    "        super(MultiHeadAttention, self).__init__()\n",
    "        self.d_model = d_model # 300\n",
    "        self.n_heads = n_heads # 20\n",
    "        self.d_k = d_k # 20\n",
    "        self.d_v = d_v # 20\n",
    "        \n",
    "        self.W_Q = nn.Linear(d_model, d_k * n_heads) # 300, 400\n",
    "        self.W_K = nn.Linear(d_model, d_k * n_heads) # 300, 400\n",
    "        self.W_V = nn.Linear(d_model, d_v * n_heads) # 300, 400\n",
    "        \n",
    "        self._initialize_weights()\n",
    "                \n",
    "    def _initialize_weights(self):\n",
    "        for m in self.modules():\n",
    "            if isinstance(m, nn.Linear):\n",
    "                nn.init.xavier_uniform_(m.weight, gain=1)\n",
    "                \n",
    "    def forward(self, Q, K, V, attn_mask=None):\n",
    "        residual, batch_size = Q, Q.size(0)\n",
    "        \n",
    "        q_s = self.W_Q(Q).view(batch_size, -1, self.n_heads, self.d_k).transpose(1,2)\n",
    "        k_s = self.W_K(K).view(batch_size, -1, self.n_heads, self.d_k).transpose(1,2)\n",
    "        v_s = self.W_V(V).view(batch_size, -1, self.n_heads, self.d_v).transpose(1,2)\n",
    "        \n",
    "        if attn_mask is not None:\n",
    "            attn_mask = attn_mask.unsqueeze(1).expand(batch_size, max_len, max_len) \n",
    "            attn_mask = attn_mask.unsqueeze(1).repeat(1, self.n_heads, 1, 1) \n",
    "        \n",
    "        context, attn = ScaledDotProductAttention(self.d_k)(q_s, k_s, v_s, attn_mask) \n",
    "        context = context.transpose(1, 2).contiguous().view(batch_size, -1, self.n_heads * self.d_v) \n",
    "        return context "
   ]
  },
  {
   "cell_type": "code",
   "execution_count": 24,
   "metadata": {},
   "outputs": [],
   "source": [
    "\n",
    "class AdditiveAttention(nn.Module):\n",
    "    ''' AttentionPooling used to weighted aggregate news vectors\n",
    "    Arg: \n",
    "        d_h: the last dimension of input\n",
    "    '''\n",
    "    def __init__(self, d_h, hidden_size=200):\n",
    "        super(AdditiveAttention, self).__init__()\n",
    "        self.att_fc1 = nn.Linear(d_h, hidden_size)\n",
    "        self.att_fc2 = nn.Linear(hidden_size, 1)\n",
    "\n",
    "    def forward(self, x, attn_mask=None):\n",
    "        \"\"\"\n",
    "        Args:\n",
    "            x: batch_size, candidate_size, candidate_vector_dim\n",
    "            attn_mask: batch_size, candidate_size\n",
    "        Returns:\n",
    "            (shape) batch_size, candidate_vector_dim\n",
    "        \"\"\"\n",
    "        bz = x.shape[0]\n",
    "        e = self.att_fc1(x)\n",
    "        e = nn.Tanh()(e)\n",
    "        alpha = self.att_fc2(e)\n",
    "\n",
    "        alpha = torch.exp(alpha)\n",
    "        if attn_mask is not None:\n",
    "            alpha = alpha * attn_mask.unsqueeze(2)\n",
    "        alpha = alpha / (torch.sum(alpha, dim=1, keepdim=True) + 1e-8)\n",
    "\n",
    "        x = torch.bmm(x.permute(0, 2, 1), alpha)\n",
    "        x = torch.reshape(x, (bz, -1))  # (bz, 400)\n",
    "        return x"
   ]
  },
  {
   "cell_type": "code",
   "execution_count": 25,
   "metadata": {},
   "outputs": [],
   "source": [
    "class TextEncoder(nn.Module):\n",
    "    def __init__(self, \n",
    "                 word_embedding_dim=300, \n",
    "                 num_attention_heads=20,\n",
    "                 query_vector_dim = 200,\n",
    "                 dropout_rate=0.2,\n",
    "                 enable_gpu=True):\n",
    "        super(TextEncoder, self).__init__()\n",
    "        self.dropout_rate = 0.2\n",
    "        pretrained_news_word_embedding = torch.from_numpy(embedding_matrix).float()\n",
    "        \n",
    "        self.word_embedding = nn.Embedding.from_pretrained(\n",
    "            pretrained_news_word_embedding, freeze=False)\n",
    "        \n",
    "        self.multihead_attention = MultiHeadAttention(word_embedding_dim,\n",
    "                                              num_attention_heads, 20, 20)\n",
    "        self.additive_attention = AdditiveAttention(num_attention_heads*20,\n",
    "                                                    query_vector_dim)\n",
    "    def forward(self, text):\n",
    "        # REVIEW: remove training=self.training to enable dropout during testing \n",
    "        text_vector = F.dropout(self.word_embedding(text.long()),\n",
    "                                p=self.dropout_rate,\n",
    "                                # training=self.training\n",
    "                                )\n",
    "        multihead_text_vector = self.multihead_attention(\n",
    "            text_vector, text_vector, text_vector)\n",
    "        multihead_text_vector = F.dropout(multihead_text_vector,\n",
    "                                          p=self.dropout_rate,\n",
    "                                        #   training=self.training\n",
    "                                          )\n",
    "        # batch_size, word_embedding_dim\n",
    "        text_vector = self.additive_attention(multihead_text_vector)\n",
    "        return text_vector"
   ]
  },
  {
   "cell_type": "code",
   "execution_count": 26,
   "metadata": {},
   "outputs": [],
   "source": [
    "class UserEncoder(nn.Module):\n",
    "    def __init__(self,\n",
    "                 news_embedding_dim=400,\n",
    "                 num_attention_heads=20,\n",
    "                 query_vector_dim=200\n",
    "                ):\n",
    "        super(UserEncoder, self).__init__()\n",
    "        self.multihead_attention = MultiHeadAttention(news_embedding_dim,\n",
    "                                              num_attention_heads, 20, 20)\n",
    "        self.additive_attention = AdditiveAttention(num_attention_heads*20,\n",
    "                                                    query_vector_dim)\n",
    "        \n",
    "        self.neg_multihead_attention = MultiHeadAttention(news_embedding_dim,\n",
    "                                                         num_attention_heads, 20, 20)\n",
    "        \n",
    "    def forward(self, clicked_news_vecs):\n",
    "        multi_clicked_vectors = self.multihead_attention(\n",
    "            clicked_news_vecs, clicked_news_vecs, clicked_news_vecs\n",
    "        )\n",
    "        pos_user_vector = self.additive_attention(multi_clicked_vectors)\n",
    "        \n",
    "        user_vector = pos_user_vector\n",
    "        return user_vector"
   ]
  },
  {
   "cell_type": "code",
   "execution_count": 27,
   "metadata": {},
   "outputs": [],
   "source": [
    "class NRMS(nn.Module):\n",
    "    def __init__(self):\n",
    "        super(NRMS, self).__init__()\n",
    "        self.text_encoder = TextEncoder()\n",
    "        self.user_encoder = UserEncoder()\n",
    "        \n",
    "        self.criterion = nn.CrossEntropyLoss()\n",
    "    \n",
    "    def forward(self, candidate_news, clicked_news, targets, compute_loss=True):\n",
    "        batch_size, npratio, word_num = candidate_news.shape\n",
    "        candidate_news = candidate_news.view(-1, word_num)\n",
    "        candidate_vector = self.text_encoder(candidate_news).view(batch_size, npratio, -1)\n",
    "        \n",
    "        batch_size, clicked_news_num, word_num = clicked_news.shape\n",
    "        clicked_news = clicked_news.view(-1, word_num)\n",
    "        clicked_news_vecs = self.text_encoder(clicked_news).view(batch_size, clicked_news_num, -1)\n",
    "        \n",
    "        user_vector = self.user_encoder(clicked_news_vecs)\n",
    "        \n",
    "        score = torch.bmm(candidate_vector, user_vector.unsqueeze(-1)).squeeze(dim=-1)\n",
    "        \n",
    "        if compute_loss:\n",
    "            loss = self.criterion(score, targets)\n",
    "            return loss, score\n",
    "        else:\n",
    "            return score"
   ]
  },
  {
   "cell_type": "markdown",
   "metadata": {},
   "source": [
    "# Train"
   ]
  },
  {
   "cell_type": "code",
   "execution_count": 28,
   "metadata": {},
   "outputs": [],
   "source": [
    "def dcg_score(y_true, y_score, k=10):\n",
    "    order = np.argsort(y_score)[::-1]\n",
    "    y_true = np.take(y_true, order[:k])\n",
    "    gains = 2 ** y_true - 1\n",
    "    discounts = np.log2(np.arange(len(y_true)) + 2)\n",
    "    return np.sum(gains / discounts)\n",
    "\n",
    "\n",
    "def ndcg_score(y_true, y_score, k=10):\n",
    "    best = dcg_score(y_true, y_true, k)\n",
    "    actual = dcg_score(y_true, y_score, k)\n",
    "    return actual / best\n",
    "\n",
    "\n",
    "def mrr_score(y_true, y_score):\n",
    "    order = np.argsort(y_score)[::-1]\n",
    "    y_true = np.take(y_true, order)\n",
    "    rr_score = y_true / (np.arange(len(y_true)) + 1)\n",
    "    return np.sum(rr_score) / np.sum(y_true)"
   ]
  },
  {
   "cell_type": "code",
   "execution_count": 29,
   "metadata": {},
   "outputs": [],
   "source": [
    "def compute_amn(y_true, y_score):\n",
    "    auc = roc_auc_score(y_true,y_score)\n",
    "    mrr = mrr_score(y_true,y_score)\n",
    "    ndcg5 = ndcg_score(y_true,y_score,5)\n",
    "    ndcg10 = ndcg_score(y_true,y_score,10)\n",
    "    return auc, mrr, ndcg5, ndcg10\n",
    "\n",
    "def evaluation_split(news_vecs, user_vecs, samples, nid2index):\n",
    "    all_rslt = []\n",
    "    for i in tqdm(range(len(samples))):\n",
    "        poss, negs, _, _, _ = samples[i]\n",
    "        user_vec = user_vecs[i]\n",
    "        y_true = [1] * len(poss) + [0] * len(negs)\n",
    "        news_ids = [nid2index[i] for i in poss + negs]\n",
    "        news_vec = news_vecs[news_ids]\n",
    "        y_score = np.multiply(news_vec, user_vec)\n",
    "        y_score = np.sum(y_score, axis=1)\n",
    "        try:\n",
    "            all_rslt.append(compute_amn(y_true, y_score))\n",
    "        except Exception as e:\n",
    "            print(e)\n",
    "    return np.array(all_rslt)"
   ]
  },
  {
   "cell_type": "code",
   "execution_count": 30,
   "metadata": {},
   "outputs": [],
   "source": [
    "train_ds = TrainDataset(train_sam, nid2index, news_index)\n",
    "train_dl = DataLoader(train_ds, batch_size=batch_size, shuffle=True, num_workers=0)"
   ]
  },
  {
   "cell_type": "code",
   "execution_count": 31,
   "metadata": {},
   "outputs": [],
   "source": [
    "if retrain:\n",
    "    for time in range(1):\n",
    "        model = NRMS().to(device)\n",
    "        optimizer = optim.Adam(model.parameters(), lr=lr)\n",
    "        best_auc = 0\n",
    "        for ep in range(epoch):\n",
    "            loss = 0\n",
    "            accuary = 0.0\n",
    "            model.train()\n",
    "            train_loader = tqdm(train_dl)\n",
    "            for cnt, batch_sample in enumerate(train_loader):\n",
    "                candidate_news_index, his_index, label = batch_sample\n",
    "                sample_num = candidate_news_index.shape[0]\n",
    "                candidate_news_index = candidate_news_index.to(device)\n",
    "                his_index = his_index.to(device)\n",
    "                label = label.to(device)\n",
    "                bz_loss, y_hat = model(candidate_news_index, his_index, label)\n",
    "\n",
    "                loss += bz_loss.detach().cpu().numpy()\n",
    "                optimizer.zero_grad()\n",
    "                bz_loss.backward()\n",
    "\n",
    "                optimizer.step()\n",
    "\n",
    "                if cnt % 10 == 0:\n",
    "                    train_loader.set_description(f\"[{cnt}]steps loss: {loss / (cnt+1):.4f} \")\n",
    "                    train_loader.refresh() \n",
    "\n",
    "\n",
    "            model.eval()\n",
    "            news_dl = DataLoader(news_dataset, batch_size=1024, shuffle=False, num_workers=0)\n",
    "            news_vecs = []\n",
    "            for news in tqdm(news_dl):\n",
    "                news = news.to(device)\n",
    "                news_vec = model.text_encoder(news).detach().cpu().numpy()\n",
    "                news_vecs.append(news_vec)\n",
    "            news_vecs = np.concatenate(news_vecs)\n",
    "\n",
    "            user_dataset = UserDataset(valid_sam, news_vecs, nid2index)\n",
    "            user_vecs = []\n",
    "            user_dl = DataLoader(user_dataset, batch_size=1024, shuffle=False, num_workers=0)\n",
    "            for his, tsp in tqdm(user_dl):\n",
    "                his = his.to(device)\n",
    "                user_vec = model.user_encoder(his).detach().cpu().numpy()\n",
    "                user_vecs.append(user_vec)\n",
    "            user_vecs = np.concatenate(user_vecs)\n",
    "\n",
    "            val_scores = evaluation_split(news_vecs, user_vecs, valid_sam, nid2index)\n",
    "            val_auc, val_mrr, val_ndcg, val_ndcg10 = [np.mean(i) for i in list(zip(*val_scores))]\n",
    "            print(f\"[{ep}] epoch auc: {val_auc:.4f}, mrr: {val_mrr:.4f}, ndcg5: {val_ndcg:.4f}, ndcg10: {val_ndcg10:.4f}\")\n",
    "\n",
    "            with open(model_path/f'{name}.txt', 'a') as f:\n",
    "                f.write(f\"[{ep}] epoch auc: {val_auc:.4f}, mrr: {val_mrr:.4f}, ndcg5: {val_ndcg:.4f}, ndcg10: {val_ndcg10:.4f}\\n\")\n",
    "                    \n",
    "            if val_auc > best_auc:\n",
    "                best_auc = val_auc\n",
    "                torch.save(model.state_dict(), model_path/f'{name}.pkl')\n",
    "                with open(model_path/f'{name}.txt', 'a') as f:\n",
    "                    f.write(f\"[{ep}] epoch save model\\n\")\n",
    "            "
   ]
  },
  {
   "cell_type": "markdown",
   "metadata": {},
   "source": [
    "# Offline"
   ]
  },
  {
   "cell_type": "code",
   "execution_count": null,
   "metadata": {},
   "outputs": [
    {
     "name": "stderr",
     "output_type": "stream",
     "text": [
      "100%|██████████| 28/28 [00:00<00:00, 77.60it/s]\n",
      "100%|██████████| 8/8 [00:00<00:00, 11.79it/s]\n",
      "100%|██████████| 7538/7538 [00:00<00:00, 25922.82it/s]\n",
      "100%|██████████| 28/28 [00:00<00:00, 83.31it/s]\n",
      "100%|██████████| 8/8 [00:00<00:00, 11.79it/s]\n",
      "100%|██████████| 7538/7538 [00:00<00:00, 26896.47it/s]\n",
      "100%|██████████| 2/2 [00:02<00:00,  1.34s/it]\n"
     ]
    }
   ],
   "source": [
    "# offline \n",
    "\n",
    "model = NRMS().to(device)\n",
    "model.load_state_dict(torch.load(model_path/f'{name}.pkl'))\n",
    "model.eval()\n",
    "for m in model.modules():\n",
    "    if m.__class__.__name__.startswith('dropout'):\n",
    "        print(m)\n",
    "        m.train()\n",
    "\n",
    "y_scores = defaultdict(list)\n",
    "y_trues = {}\n",
    "\n",
    "with torch.no_grad():\n",
    "\n",
    "    for i in tqdm(range(eva_times)):\n",
    "        test_news_dataset = NewsDataset(test_news_index)\n",
    "        news_dl = DataLoader(test_news_dataset, batch_size=1024, shuffle=False, num_workers=0)\n",
    "        news_vecs = []\n",
    "        for news in tqdm(news_dl):\n",
    "            news = news.to(device)\n",
    "            news_vec = model.text_encoder(news).detach().cpu().numpy()\n",
    "            news_vecs.append(news_vec)\n",
    "        news_vecs = np.concatenate(news_vecs)\n",
    "\n",
    "        user_dataset = UserDataset(test_sam, news_vecs, test_nid2index)\n",
    "        user_vecs = []\n",
    "        user_dl = DataLoader(user_dataset, batch_size=1024, shuffle=False, num_workers=0)\n",
    "        for his_tsp in tqdm(user_dl):\n",
    "            his, _ = his_tsp\n",
    "            his = his.to(device)\n",
    "            user_vec = model.user_encoder(his).detach().cpu().numpy()\n",
    "            user_vecs.append(user_vec)\n",
    "        user_vecs = np.concatenate(user_vecs)\n",
    "\n",
    "        for i in tqdm(range(len(valid_sam))):\n",
    "            poss, negs, _, _, _ = valid_sam[i]\n",
    "            user_vec = user_vecs[i]\n",
    "            y_true = [1] * len(poss) + [0] * len(negs)\n",
    "            news_ids = [nid2index[i] for i in poss + negs]\n",
    "            news_vec = news_vecs[news_ids]\n",
    "            y_score = np.multiply(news_vec, user_vec)\n",
    "            y_score = np.sum(y_score, axis=1)\n",
    "            \n",
    "            y_scores[i].append(y_score)\n",
    "            y_trues[i] = y_true\n",
    "\n",
    "    # test_auc, test_mrr, test_ndcg, test_ndcg10 = [np.mean(i) for i in list(zip(*test_scores))]\n",
    "    # print(f\"[{i}] time test auc: {test_auc:.4f}, mrr: {test_mrr:.4f}, ndcg5: {test_ndcg:.4f}, ndcg10: {test_ndcg10:.4f}\")\n",
    "\n",
    "# with open(model_path/ f'{name}.txt', 'a') as f:\n",
    "#         f.write(f\"[{time}] time test auc: {test_auc:.4f}, mrr: {test_mrr:.4f}, ndcg5: {test_ndcg:.4f}, ndcg10: {test_ndcg10:.4f}\\n\")"
   ]
  },
  {
   "cell_type": "code",
   "execution_count": null,
   "metadata": {},
   "outputs": [],
   "source": [
    "def print_eva_metric(y_scores, y_trues):\n",
    "    all_rslt_mean = []\n",
    "    all_rslt_ucb1 = []\n",
    "    all_rslt_ucb05 = []\n",
    "    all_rslt_ucb15 = []\n",
    "\n",
    "    for key, value in y_scores.items():\n",
    "        mean = np.asarray(value).mean(axis = 0)\n",
    "        std = np.asarray(value).std(axis = 0)\n",
    "        # print(utc.metrics.get_all_metrics(mean, std, np.array(y_trues[key])))\n",
    "        try:\n",
    "            all_rslt_mean.append(compute_amn(y_trues[key], mean))\n",
    "            all_rslt_ucb1.append(compute_amn(y_trues[key], mean + std ))\n",
    "            all_rslt_ucb05.append(compute_amn(y_trues[key], mean + 0.5 * std ))\n",
    "            all_rslt_ucb15.append(compute_amn(y_trues[key], mean + 1.5 * std ))\n",
    "        except Exception as e:\n",
    "            print(e)\n",
    "\n",
    "\n",
    "    val_auc, val_mrr, val_ndcg, val_ndcg10 = [np.mean(i) for i in list(zip(*np.array(all_rslt_mean)))]\n",
    "    with open(model_path/f'{name}.txt', 'a') as f:\n",
    "        f.write(f\"ucb 0 auc: {val_auc:.4f}, mrr: {val_mrr:.4f}, ndcg5: {val_ndcg:.4f}, ndcg10: {val_ndcg10:.4f}\\n\")\n",
    "\n",
    "    val_auc, val_mrr, val_ndcg, val_ndcg10 = [np.mean(i) for i in list(zip(*np.array(all_rslt_ucb05)))]\n",
    "    with open(model_path/f'{name}.txt', 'a') as f:\n",
    "        f.write(f\"ucb 0.5 auc: {val_auc:.4f}, mrr: {val_mrr:.4f}, ndcg5: {val_ndcg:.4f}, ndcg10: {val_ndcg10:.4f}\\n\")\n",
    "        \n",
    "    val_auc, val_mrr, val_ndcg, val_ndcg10 = [np.mean(i) for i in list(zip(*np.array(all_rslt_ucb1)))]\n",
    "    with open(model_path/f'{name}.txt', 'a') as f:\n",
    "        f.write(f\"ucb 1 auc: {val_auc:.4f}, mrr: {val_mrr:.4f}, ndcg5: {val_ndcg:.4f}, ndcg10: {val_ndcg10:.4f}\\n\")\n",
    "   \n",
    "    val_auc, val_mrr, val_ndcg, val_ndcg10 = [np.mean(i) for i in list(zip(*np.array(all_rslt_ucb15)))]\n",
    "    with open(model_path/f'{name}.txt', 'a') as f:\n",
    "        f.write(f\"ucb 1.5 auc: {val_auc:.4f}, mrr: {val_mrr:.4f}, ndcg5: {val_ndcg:.4f}, ndcg10: {val_ndcg10:.4f}\\n \\n\")\n"
   ]
  },
  {
   "cell_type": "code",
   "execution_count": null,
   "metadata": {},
   "outputs": [],
   "source": [
    "with open(model_path/f'{name}.txt', 'a') as f:\n",
    "    f.write(f\"offline eva with eva : {eva_times} times\\n\")\n",
    "print_eva_metric(y_scores, y_trues)"
   ]
  },
  {
   "cell_type": "markdown",
   "metadata": {},
   "source": [
    "# Online"
   ]
  },
  {
   "cell_type": "code",
   "execution_count": null,
   "metadata": {},
   "outputs": [],
   "source": [
    "def construct_trainable_samples(samples):\n",
    "    tr_samples = []\n",
    "    for l in samples:\n",
    "        pos_imp, neg_imp, his, uid, tsp = l    \n",
    "        for pos in list(pos_imp):\n",
    "            tr_samples.append([pos, neg_imp, his, uid, tsp])\n",
    "    return tr_samples\n",
    "\n",
    "\n",
    "\n",
    "def finetune(model, ft_sam, nid2index, news_index, batch_size):\n",
    "    optimizer = optim.Adam(model.parameters(), lr=lr)\n",
    "    ft_sam = construct_trainable_samples(ft_sam)\n",
    "    ft_ds = TrainDataset(ft_sam, nid2index, news_index)\n",
    "    ft_dl = DataLoader(ft_ds, batch_size=batch_size, shuffle=True, num_workers=0)\n",
    "    for ep in range(epoch):\n",
    "        loss = 0\n",
    "        accuary = 0.0\n",
    "        model.train()\n",
    "        ft_loader = tqdm(ft_dl)\n",
    "        for cnt, batch_sample in enumerate(ft_loader):\n",
    "            candidate_news_index, his_index, label = batch_sample\n",
    "            sample_num = candidate_news_index.shape[0]\n",
    "            candidate_news_index = candidate_news_index.to(device)\n",
    "            his_index = his_index.to(device)\n",
    "            label = label.to(device)\n",
    "            bz_loss, y_hat = model(candidate_news_index, his_index, label)\n",
    "\n",
    "            loss += bz_loss.detach().cpu().numpy()\n",
    "            optimizer.zero_grad()\n",
    "            bz_loss.backward()\n",
    "\n",
    "            optimizer.step()\n",
    "\n",
    "            if cnt % 10 == 0:\n",
    "                ft_loader.set_description(f\"[{cnt}]steps loss: {loss / (cnt+1):.4f} \")\n",
    "                ft_loader.refresh() \n",
    "\n",
    "    return model \n",
    "\n",
    "def eva_batch(model, droupout_flag, batch_news_index, batch_sam, batch_nid2index, y_scores, y_trues, ucbs, batch_size, batch_id):\n",
    "    model.eval()\n",
    "    if droupout_flag:\n",
    "        for m in model.modules():\n",
    "            if m.__class__.__name__.startswith('dropout'):\n",
    "                print(m)\n",
    "                m.train()\n",
    "    \n",
    "    with torch.no_grad():\n",
    "        for i in tqdm(range(eva_times)):\n",
    "            batch_news_dataset = NewsDataset(batch_news_index)\n",
    "            news_dl = DataLoader(batch_news_dataset, batch_size=batch_size, shuffle=False, num_workers=0)\n",
    "            news_vecs = []\n",
    "            for news in tqdm(news_dl):\n",
    "                news = news.to(device)\n",
    "                news_vec = model.text_encoder(news).detach().cpu().numpy()\n",
    "                news_vecs.append(news_vec)\n",
    "            news_vecs = np.concatenate(news_vecs)\n",
    "\n",
    "            user_dataset = UserDataset(batch_sam, news_vecs, batch_nid2index)\n",
    "            user_vecs = []\n",
    "            user_dl = DataLoader(user_dataset, batch_size=batch_size, shuffle=False, num_workers=0)\n",
    "            \n",
    "\n",
    "            for his_tsp in tqdm(user_dl):\n",
    "                his, tsp = his_tsp\n",
    "                batch_time = datetime.strptime(str(tsp[-1]), date_format_str)\n",
    "                his = his.to(device)\n",
    "                user_vec = model.user_encoder(his).detach().cpu().numpy()\n",
    "                user_vecs.append(user_vec)\n",
    "                # print(tsp)\n",
    "            user_vecs = np.concatenate(user_vecs)\n",
    "\n",
    "            start_id = batch_size * batch_id\n",
    "\n",
    "            for i in tqdm(range(len(batch_sam))):\n",
    "                poss, negs, _, _,_ = batch_sam[i]\n",
    "                user_vec = user_vecs[i]\n",
    "                y_true = [1] * len(poss) + [0] * len(negs)\n",
    "                news_ids = [nid2index[i] for i in poss + negs]\n",
    "                news_vec = news_vecs[news_ids]\n",
    "                y_score = np.multiply(news_vec, user_vec)\n",
    "                y_score = np.sum(y_score, axis=1)\n",
    "                \n",
    "                y_scores[start_id+i].append(y_score)\n",
    "                y_trues[start_id+i] = y_true\n",
    "                \n",
    "    return y_scores, y_trues, batch_time"
   ]
  },
  {
   "cell_type": "code",
   "execution_count": null,
   "metadata": {
    "scrolled": true
   },
   "outputs": [
    {
     "name": "stdout",
     "output_type": "stream",
     "text": [
      "online eva\n"
     ]
    },
    {
     "name": "stderr",
     "output_type": "stream",
     "text": [
      "100%|██████████| 28/28 [00:00<00:00, 80.44it/s]\n",
      "100%|██████████| 1/1 [00:00<00:00, 10.06it/s]\n",
      "100%|██████████| 1024/1024 [00:00<00:00, 25848.38it/s]\n",
      "100%|██████████| 28/28 [00:00<00:00, 85.21it/s]\n",
      "100%|██████████| 1/1 [00:00<00:00, 10.95it/s]\n",
      "100%|██████████| 1024/1024 [00:00<00:00, 26730.28it/s]\n",
      "100%|██████████| 2/2 [00:00<00:00,  2.02it/s]\n"
     ]
    },
    {
     "name": "stdout",
     "output_type": "stream",
     "text": [
      "init update time:  2019-11-15 05:39:04\n"
     ]
    },
    {
     "name": "stderr",
     "output_type": "stream",
     "text": [
      "100%|██████████| 28/28 [00:00<00:00, 85.66it/s]\n",
      "100%|██████████| 1/1 [00:00<00:00, 11.49it/s]\n",
      "100%|██████████| 1024/1024 [00:00<00:00, 26880.17it/s]\n",
      "100%|██████████| 28/28 [00:00<00:00, 83.90it/s]\n",
      "100%|██████████| 1/1 [00:00<00:00, 11.31it/s]\n",
      "100%|██████████| 1024/1024 [00:00<00:00, 26790.63it/s]\n",
      "100%|██████████| 2/2 [00:00<00:00,  2.09it/s]\n"
     ]
    },
    {
     "name": "stdout",
     "output_type": "stream",
     "text": [
      "finetune with: 0 ~ 2048\n"
     ]
    },
    {
     "name": "stderr",
     "output_type": "stream",
     "text": [
      "[90]steps loss: 1.3872 : 100%|██████████| 98/98 [00:05<00:00, 17.08it/s]\n"
     ]
    },
    {
     "name": "stdout",
     "output_type": "stream",
     "text": [
      "update before:  2019-11-15 07:19:34\n"
     ]
    },
    {
     "name": "stderr",
     "output_type": "stream",
     "text": [
      "100%|██████████| 28/28 [00:00<00:00, 82.97it/s]\n",
      "100%|██████████| 1/1 [00:00<00:00, 10.00it/s]\n",
      "100%|██████████| 1024/1024 [00:00<00:00, 24616.66it/s]\n",
      "100%|██████████| 28/28 [00:00<00:00, 85.87it/s]\n",
      "100%|██████████| 1/1 [00:00<00:00, 11.25it/s]\n",
      "100%|██████████| 1024/1024 [00:00<00:00, 25687.91it/s]\n",
      "100%|██████████| 2/2 [00:00<00:00,  2.04it/s]\n"
     ]
    },
    {
     "name": "stdout",
     "output_type": "stream",
     "text": [
      "finetune with: 2048 ~ 3072\n"
     ]
    },
    {
     "name": "stderr",
     "output_type": "stream",
     "text": [
      "[40]steps loss: 1.3627 : 100%|██████████| 48/48 [00:02<00:00, 17.53it/s]\n"
     ]
    },
    {
     "name": "stdout",
     "output_type": "stream",
     "text": [
      "update before:  2019-11-15 08:49:18\n"
     ]
    },
    {
     "name": "stderr",
     "output_type": "stream",
     "text": [
      "100%|██████████| 28/28 [00:00<00:00, 83.78it/s]\n",
      "100%|██████████| 1/1 [00:00<00:00, 10.05it/s]\n",
      "100%|██████████| 1024/1024 [00:00<00:00, 24486.14it/s]\n",
      "100%|██████████| 28/28 [00:00<00:00, 84.64it/s]\n",
      "100%|██████████| 1/1 [00:00<00:00, 11.26it/s]\n",
      "100%|██████████| 1024/1024 [00:00<00:00, 25463.28it/s]\n",
      "100%|██████████| 2/2 [00:00<00:00,  2.04it/s]\n"
     ]
    },
    {
     "name": "stdout",
     "output_type": "stream",
     "text": [
      "finetune with: 3072 ~ 4096\n"
     ]
    },
    {
     "name": "stderr",
     "output_type": "stream",
     "text": [
      "[40]steps loss: 1.4391 : 100%|██████████| 50/50 [00:02<00:00, 17.52it/s]\n"
     ]
    },
    {
     "name": "stdout",
     "output_type": "stream",
     "text": [
      "update before:  2019-11-15 10:20:11\n"
     ]
    },
    {
     "name": "stderr",
     "output_type": "stream",
     "text": [
      "100%|██████████| 28/28 [00:00<00:00, 82.26it/s]\n",
      "100%|██████████| 1/1 [00:00<00:00, 10.25it/s]\n",
      "100%|██████████| 1024/1024 [00:00<00:00, 24921.48it/s]\n",
      "100%|██████████| 28/28 [00:00<00:00, 84.44it/s]\n",
      "100%|██████████| 1/1 [00:00<00:00, 11.12it/s]\n",
      "100%|██████████| 1024/1024 [00:00<00:00, 25092.26it/s]\n",
      "100%|██████████| 2/2 [00:00<00:00,  2.02it/s]\n"
     ]
    },
    {
     "name": "stdout",
     "output_type": "stream",
     "text": [
      "finetune with: 4096 ~ 5120\n"
     ]
    },
    {
     "name": "stderr",
     "output_type": "stream",
     "text": [
      "[40]steps loss: 1.4436 : 100%|██████████| 49/49 [00:02<00:00, 17.43it/s]\n"
     ]
    },
    {
     "name": "stdout",
     "output_type": "stream",
     "text": [
      "update before:  2019-11-15 11:53:25\n"
     ]
    },
    {
     "name": "stderr",
     "output_type": "stream",
     "text": [
      "100%|██████████| 28/28 [00:00<00:00, 72.48it/s]\n",
      "100%|██████████| 1/1 [00:00<00:00,  9.57it/s]\n",
      "100%|██████████| 1024/1024 [00:00<00:00, 23953.68it/s]\n",
      "100%|██████████| 28/28 [00:00<00:00, 67.88it/s]\n",
      "100%|██████████| 1/1 [00:00<00:00, 10.93it/s]\n",
      "100%|██████████| 1024/1024 [00:00<00:00, 24119.00it/s]\n",
      "100%|██████████| 2/2 [00:01<00:00,  1.77it/s]\n"
     ]
    },
    {
     "name": "stdout",
     "output_type": "stream",
     "text": [
      "finetune with: 5120 ~ 6144\n"
     ]
    },
    {
     "name": "stderr",
     "output_type": "stream",
     "text": [
      "[40]steps loss: 1.4555 : 100%|██████████| 50/50 [00:02<00:00, 17.57it/s]\n"
     ]
    },
    {
     "name": "stdout",
     "output_type": "stream",
     "text": [
      "update before:  2019-11-15 13:39:20\n"
     ]
    },
    {
     "name": "stderr",
     "output_type": "stream",
     "text": [
      "100%|██████████| 28/28 [00:00<00:00, 83.21it/s]\n",
      "100%|██████████| 1/1 [00:00<00:00, 10.36it/s]\n",
      "100%|██████████| 1024/1024 [00:00<00:00, 26228.81it/s]\n",
      "100%|██████████| 28/28 [00:00<00:00, 84.75it/s]\n",
      "100%|██████████| 1/1 [00:00<00:00, 11.36it/s]\n",
      "100%|██████████| 1024/1024 [00:00<00:00, 26751.75it/s]\n",
      "100%|██████████| 2/2 [00:00<00:00,  2.05it/s]\n"
     ]
    },
    {
     "name": "stdout",
     "output_type": "stream",
     "text": [
      "finetune with: 6144 ~ 7168\n"
     ]
    },
    {
     "name": "stderr",
     "output_type": "stream",
     "text": [
      "[40]steps loss: 1.4554 : 100%|██████████| 46/46 [00:02<00:00, 17.60it/s]\n"
     ]
    },
    {
     "name": "stdout",
     "output_type": "stream",
     "text": [
      "update before:  2019-11-15 16:43:22\n"
     ]
    },
    {
     "name": "stderr",
     "output_type": "stream",
     "text": [
      "100%|██████████| 28/28 [00:00<00:00, 83.08it/s]\n",
      "100%|██████████| 1/1 [00:00<00:00, 26.76it/s]\n",
      "100%|██████████| 370/370 [00:00<00:00, 22919.36it/s]\n",
      "100%|██████████| 28/28 [00:00<00:00, 82.08it/s]\n",
      "100%|██████████| 1/1 [00:00<00:00, 30.60it/s]\n",
      "100%|██████████| 370/370 [00:00<00:00, 23760.12it/s]\n",
      "100%|██████████| 2/2 [00:00<00:00,  2.43it/s]\n"
     ]
    },
    {
     "name": "stdout",
     "output_type": "stream",
     "text": [
      "no finetune due to insufficient samples:  370\n"
     ]
    }
   ],
   "source": [
    "# online \n",
    "\n",
    "print('online eva')\n",
    "\n",
    "model = NRMS().to(device)\n",
    "model.load_state_dict(torch.load(model_path/f'{name}.pkl'))\n",
    "\n",
    "y_scores = defaultdict(list)\n",
    "y_trues = {}\n",
    "\n",
    "update_time = None\n",
    "update_batch = 0\n",
    "batch_size = 1024\n",
    "dropout_flag = True\n",
    "\n",
    "n_batch = math.ceil(float(len(test_sam))/batch_size)\n",
    "\n",
    "for i in range(n_batch):\n",
    "    upper_range = min(1024 * (i+1), len(test_sam))\n",
    "    batch_sam = test_sam[1024 * i: upper_range]\n",
    "\n",
    "    y_scores, y_trues, batch_time = eva_batch(model, dropout_flag, test_news_index, batch_sam, test_nid2index, y_scores, y_trues, batch_size, i)\n",
    "    \n",
    "    num_sample = len(y_scores)\n",
    "    with open(model_path/f'{name}.txt', 'a') as f:\n",
    "        f.write(f\"online eva on batch : {i} with {num_sample} samples in current batch, up to index {upper_range}\\n\")\n",
    "    print_eva_metric(y_scores, y_trues)\n",
    "   \n",
    "    if update_time is None:\n",
    "        update_time = batch_time\n",
    "        print('init update time: ', update_time)\n",
    "    if (batch_time- update_time).total_seconds() > 3600:\n",
    "\n",
    "        ft_sam = test_sam[1024 * update_batch: upper_range]\n",
    "        if upper_range - 1024 * update_batch > 512:\n",
    "            print('finetune with: '  + str(1024 * update_batch) + ' ~ ' + str(upper_range))\n",
    "            model = finetune(model=model, ft_sam=ft_sam, nid2index=test_nid2index, news_index=test_news_index, batch_size=32)\n",
    "\n",
    "            update_time = batch_time\n",
    "            update_batch = i + 1\n",
    "            print('update before: ', update_time)\n",
    "        else: \n",
    "            print('no finetune due to insufficient samples: ', str(upper_range - 1024 * update_batch))"
   ]
  },
  {
   "cell_type": "code",
   "execution_count": null,
   "metadata": {},
   "outputs": [],
   "source": [
    "torch.save(model.state_dict(), model_path/f'{name}_finetune.pkl')\n",
    "# sys.stdout.close()"
   ]
  },
  {
   "cell_type": "markdown",
   "metadata": {},
   "source": [
    "# Bandit Simulation"
   ]
  },
  {
   "cell_type": "code",
   "execution_count": null,
   "metadata": {},
   "outputs": [],
   "source": [
    "class CB_sim():\n",
    "    def __init__(\n",
    "        self, model_path, simulator_path, out_path, device,\n",
    "        news_index, nid2index,\n",
    "        finetune_batch_size = 32, eva_batch_size = 1024, dropout_flag = True, n_inference = 50,\n",
    "    ):\n",
    "        self.model = NRMS().to(device)\n",
    "        self.model.load_state_dict(torch.load(model_path/f'{name}.pkl'))\n",
    "        \n",
    "        # TODO: change simulator to PLM\n",
    "        self.simulator = NRMS().to(device)\n",
    "        self.simulator.load_state_dict(torch.load(simulator_path/f'{name}.pkl'))\n",
    "\n",
    "        self.news_index = news_index\n",
    "        self.nid2index = nid2index\n",
    "\n",
    "        self.out_path = out_path\n",
    "        self.dropout_flag = dropout_flag\n",
    "        self.n_inference = n_inference\n",
    "        self.finetune_batch_size = finetune_batch_size\n",
    "        self.eva_batch_size = eva_batch_size\n",
    "        self.date_format_str = '%m/%d/%Y %I:%M:%S %p'\n",
    "\n",
    "    \n",
    "    def enable_dropout(self):\n",
    "        for m in self.model.modules():\n",
    "            if m.__class__.__name__.startswith('dropout'):\n",
    "                print(m)\n",
    "                m.train() \n",
    "        \n",
    "    def get_news_vec(self, model, batch_news_index):\n",
    "        batch_news_dataset = NewsDataset(batch_news_index)\n",
    "        news_dl = DataLoader(batch_news_dataset, batch_size=batch_size, shuffle=False, num_workers=0)\n",
    "        news_vecs = []\n",
    "        for news in tqdm(news_dl):\n",
    "            news = news.to(device)\n",
    "            news_vec = model.text_encoder(news).detach().cpu().numpy()\n",
    "            news_vecs.append(news_vec)\n",
    "        news_vecs = np.concatenate(news_vecs)\n",
    "\n",
    "        return news_vecs\n",
    "\n",
    "    def get_user_vec(self, model, batch_sam, news_vecs, batch_nid2index):\n",
    "        user_dataset = UserDataset(batch_sam, news_vecs, batch_nid2index)\n",
    "        user_vecs = []\n",
    "        user_dl = DataLoader(user_dataset, batch_size=batch_size, shuffle=False, num_workers=0)\n",
    "\n",
    "        for his_tsp in tqdm(user_dl):\n",
    "            his, tsp = his_tsp\n",
    "            his = his.to(device)\n",
    "            user_vec = model.user_encoder(his).detach().cpu().numpy()\n",
    "            user_vecs.append(user_vec)\n",
    "            # print(tsp)\n",
    "        user_vecs = np.concatenate(user_vecs)\n",
    "\n",
    "        return user_vecs\n",
    "        \n",
    "    def get_cand_news(self, t, poss, negs, m = 5):\n",
    "        \"\"\"\n",
    "        Generate candidates news based on CTR.\n",
    "\n",
    "        t: string, impr time\n",
    "        poss: list, positive samples in impr\n",
    "        negs: list, neg samples in impr\n",
    "        m: int, number of candidate news to return\n",
    "\n",
    "        Return: array, candidate news id \n",
    "        \"\"\"\n",
    "        # TODO: add poss, negs into cand news?\n",
    "        t = datetime.strptime(t,date_format_str)\n",
    "        tidx = int((t - start_time).total_seconds()/interval_time)\n",
    "\n",
    "        nonzero = news_ctr[:,tidx -1][news_ctr[:, tidx-1] > 0]\n",
    "        nonzero_idx = np.where(news_ctr[:, tidx-1] > 0)[0]\n",
    "        # print(nonzero_idx)\n",
    "\n",
    "        nonzero = nonzero/nonzero.sum()\n",
    "        assert (nonzero.sum() - 1) < 1e-3\n",
    "        # print(np.sort(nonzero)[-5:])\n",
    "\n",
    "        # sampling according to normalised ctr in last one hour\n",
    "        sample_nidx = np.random.choice(nonzero_idx, size = m, replace = False, p = nonzero)\n",
    "        # print(news_ctr[sample_nidx, tidx-1])\n",
    "        # plt.hist(nonzero)\n",
    "        return sample_nidx\n",
    "        \n",
    "#     t =  sorted_train_sam[1500][-1]\n",
    "#     gene_news_pool(t, 20)\n",
    "\n",
    "    def finetune(self, ft_sam):\n",
    "        optimizer = optim.Adam(self.model.parameters(), lr=lr)\n",
    "        ft_sam = construct_trainable_samples(ft_sam)\n",
    "        ft_ds = TrainDataset(ft_sam, self.nid2index, self.news_index)\n",
    "        ft_dl = DataLoader(ft_ds, batch_size=self.finetune_batch_size, shuffle=True, num_workers=0)\n",
    "        for ep in range(epoch):\n",
    "            loss = 0\n",
    "            accuary = 0.0\n",
    "            self.model.train()\n",
    "            ft_loader = tqdm(ft_dl)\n",
    "            for cnt, batch_sample in enumerate(ft_loader):\n",
    "                candidate_news_index, his_index, label = batch_sample\n",
    "                sample_num = candidate_news_index.shape[0]\n",
    "                candidate_news_index = candidate_news_index.to(device)\n",
    "                his_index = his_index.to(device)\n",
    "                label = label.to(device)\n",
    "                bz_loss, y_hat = self.model(candidate_news_index, his_index, label)\n",
    "\n",
    "                loss += bz_loss.detach().cpu().numpy()\n",
    "                optimizer.zero_grad()\n",
    "                bz_loss.backward()\n",
    "\n",
    "                optimizer.step()\n",
    "\n",
    "                if cnt % 10 == 0:\n",
    "                    ft_loader.set_description(f\"[{cnt}]steps loss: {loss / (cnt+1):.4f} \")\n",
    "                    ft_loader.refresh() \n",
    "\n",
    "    def get_ucb_socre(self, y_score, t):\n",
    "        ucb = []\n",
    "        beta_t = 1\n",
    "\n",
    "        mean = np.asarray(y_score).mean(axis = 0)\n",
    "        std = np.asarray(y_score).std(axis = 0)\n",
    "        return mean + beta_t * std\n",
    "                \n",
    "    def rec(self, batch_sam, batch_id, exper_id, k = 5):\n",
    "        \"\"\"\n",
    "        Simulate recommendations\n",
    "        \"\"\"\n",
    "        \n",
    "        self.model.eval()\n",
    "        if self.droupout_flag:\n",
    "            self.enable_dropout()\n",
    "\n",
    "        with torch.no_grad():\n",
    "            for i in tqdm(range(self.n_inference)):\n",
    "                # TODO: speed up - only pass batch news index\n",
    "                news_vecs = self.get_news_vec(self.model, self.news_index)\n",
    "                users_vecs = self.get_user_vec(self.model, batch_sam, news_vecs, self.nid2index)\n",
    "\n",
    "                sim_news_vecs = self.get_news_vec(self.simulator, self.news_index)\n",
    "                sim_users_vecs = self.get_user_vec(self.simulator, batch_sam, news_vecs, self.nid2index)\n",
    "\n",
    "                start_id = self.eva_batch_size * batch_id\n",
    "\n",
    "                for i in tqdm(range(len(batch_sam))):\n",
    "                    t = start_id + i\n",
    "                    poss, negs, his, uid, _ = batch_sam[i]             \n",
    "\n",
    "                    user_vec = user_vecs[i]\n",
    "                    sim_user_vec = sim_user_vecs[i]\n",
    "\n",
    "                    cand_nids = self.get_cand_news(t, poss, negs)\n",
    "                    news_vec = news_vecs[cand_nids]\n",
    "                    sim_news_vec = sim_news_vecs[cand_nids]\n",
    "\n",
    "                    y_score = np.sum(np.multiply(news_vec, user_vec), axis=1)\n",
    "                    ucb_score = self.get_ucb_score(y_score, t)\n",
    "                    sim_y_score = np.sum(np.multiply(sim_news_vec, sim_user_vec), axis=1)\n",
    "\n",
    "                    rec_nids = np.argsort(ucb_score)[-k:]\n",
    "                    opt_nids = np.argsort(sim_y_score)[-k:]\n",
    "                    assert len(set(rec_nids)) == k\n",
    "                    assert len(set(opt_nids)) == k\n",
    "\n",
    "                    reward = len(set(rec_nids), set(opt_nids)) # reward as the overlap between rec and opt set\n",
    "                    self.cumu_reward += reward\n",
    "                    self.cumu_rewards[exper_id, t] = self.cumu_reward\n",
    "\n",
    "                    rec_poss = [rec_nid for rec_nid in rec_nids if rec_nid in opt_nids]\n",
    "                    rec_negs = rec_nids - rec_poss\n",
    "                    self.rec_sam[i][0] = rec_poss\n",
    "                    self.rec_sam[i][1] = rec_negs\n",
    "\n",
    "                    self.recs[exper_id].append(rec_nids)     \n",
    "                    self.opts[exper_id].append(opt_nids)   \n",
    "        \n",
    "    def run_exper(self, test_sam, num_exper = 10):\n",
    "        num_sam = len(test_sam)\n",
    "        n_batch = math.ceil(float(num_sam)/self.eva_batch_size)\n",
    "        self.rec_sam = test_sam.copy()\n",
    "        self.cumu_rewards = np.zeros((num_exper, num_sam))\n",
    "        self.recs = defaultdict(list)\n",
    "        self.opts = defaultdict(list)\n",
    "        \n",
    "\n",
    "        for j in range(num_exper):\n",
    "            self.cumu_reward = 0\n",
    "            \n",
    "            for i in range(n_batch):\n",
    "                upper_range = min(self.eva_batch_size * (i+1), len(test_sam))\n",
    "                batch_sam = test_sam[self.eva_batch_size * i: upper_range]\n",
    "                batch_time = datetime.strptime(str(batch_sam[0][-1]), self.date_format_str)\n",
    "\n",
    "                self.rec(batch_sam, recs, i, j)\n",
    "\n",
    "                if update_time is None:\n",
    "                    update_time = batch_time\n",
    "                    print('init update time: ', update_time)\n",
    "                if (batch_time- update_time).total_seconds() > 3600:\n",
    "                    ft_sam = self.rec_sam[self.eva_batch_size * update_batch: upper_range]\n",
    "                    if upper_range - self.eva_batch_size * update_batch > 512:\n",
    "                        print('finetune with: '  + str(self.eva_batch_size * update_batch) + ' ~ ' + str(upper_range))\n",
    "                        self.finetune(ft_sam=ft_sam)\n",
    "\n",
    "                        update_time = batch_time\n",
    "                        update_batch = i + 1\n",
    "                        print('update before: ', update_time)\n",
    "                    else: \n",
    "                        print('no finetune due to insufficient samples: ', str(upper_range - self.eva_batch_size * update_batch))\n",
    "\n",
    "        self.save_results()\n",
    "\n",
    "    def save_results(self):\n",
    "        torch.save(self.model.state_dict(), model_path/f'{name}_finetune.pkl')\n",
    "        with open(os.path.join(self.out_path, \"recs.pkl\"), \"wb\") as f:\n",
    "            pickle.dump(self.recs, f)\n",
    "        with open(os.path.join(self.out_path, \"opts.pkl\"), \"wb\") as f:\n",
    "            pickle.dump(self.opts, f)\n",
    "        with open(os.path.join(self.out_path, \"rewards.pkl\"), \"wb\") as f:\n",
    "            pickle.dump(self.cumu_rewards, f)\n",
    "        \n"
   ]
  }
 ],
 "metadata": {
  "kernelspec": {
   "display_name": "Python 3",
   "language": "python",
   "name": "python3"
  },
  "language_info": {
   "codemirror_mode": {
    "name": "ipython",
    "version": 3
   },
   "file_extension": ".py",
   "mimetype": "text/x-python",
   "name": "python",
   "nbconvert_exporter": "python",
   "pygments_lexer": "ipython3",
   "version": "3.6.9"
  }
 },
 "nbformat": 4,
 "nbformat_minor": 4
}
