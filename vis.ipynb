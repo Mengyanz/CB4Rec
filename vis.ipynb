{
 "cells": [
  {
   "cell_type": "code",
   "execution_count": 1,
   "metadata": {},
   "outputs": [],
   "source": [
    "from pathlib import Path\n",
    "import pickle\n",
    "import numpy as np\n",
    "import matplotlib.pyplot as plt"
   ]
  },
  {
   "cell_type": "code",
   "execution_count": 2,
   "metadata": {},
   "outputs": [],
   "source": [
    "dataset = 'small/'\n",
    "model_path = Path(\"/home/v-mezhang/blob/model/\" + str(dataset))"
   ]
  },
  {
   "cell_type": "code",
   "execution_count": 5,
   "metadata": {},
   "outputs": [],
   "source": [
    "policy = 'epsilon_greedy'\n",
    "paras = [0, 0.1]\n",
    "rewards = {}\n",
    "opt_rewards = {}"
   ]
  },
  {
   "cell_type": "code",
   "execution_count": 6,
   "metadata": {},
   "outputs": [],
   "source": [
    "for para in paras:\n",
    "    policy_name = policy + '_' + str(para)\n",
    "    with open(os.path.join(model_path, (policy_name + \"_rewards.pkl\")), \"rb\") as f:\n",
    "        rewards[para] = pickle.load(f)\n",
    "    with open(os.path.join(model_path, (policy_name+ \"_opt_rewards.pkl\")), \"rb\") as f:\n",
    "        opt_rewards[para] = pickle.load(f)\n"
   ]
  },
  {
   "cell_type": "code",
   "execution_count": 7,
   "metadata": {},
   "outputs": [],
   "source": [
    "cumu_regrets = {}\n",
    "for para in paras:\n",
    "    num_exper, num_sam = rewards[para].shape\n",
    "    cumu_regrets[para] = np.zeros((num_exper, num_sam))\n",
    "    for i in range(num_exper):\n",
    "        cumu_reward = 0\n",
    "        cumu_opt_reward = 0\n",
    "\n",
    "        for j in range(num_sam):\n",
    "            cumu_reward += rewards[para][i,j]\n",
    "            cumu_opt_reward += opt_rewards[para][i,j]\n",
    "            cumu_regrets[para][i,j] = (cumu_opt_reward - cumu_reward) #/(j+1)"
   ]
  },
  {
   "cell_type": "code",
   "execution_count": 8,
   "metadata": {},
   "outputs": [
    {
     "data": {
      "text/plain": [
       "<matplotlib.legend.Legend at 0x7f78a67979e8>"
      ]
     },
     "execution_count": 8,
     "metadata": {},
     "output_type": "execute_result"
    },
    {
     "data": {
      "image/png": "[encoded data removed]",
      "text/plain": [
       "<Figure size 432x288 with 1 Axes>"
      ]
     },
     "metadata": {
      "needs_background": "light"
     },
     "output_type": "display_data"
    }
   ],
   "source": [
    "for para, value in cumu_regrets.items():\n",
    "    plt.plot(range(num_sam), value.mean(axis=0), label = para)\n",
    "plt.legend()\n"
   ]
  },
  {
   "cell_type": "code",
   "execution_count": null,
   "metadata": {},
   "outputs": [
    {
     "data": {
      "text/plain": [
       "(array([17940., 16048., 16409.,  8784.,  6161.,  4708.,  1777.,  1038.,\n",
       "          237.,    50.]),\n",
       " array([0.  , 0.34, 0.68, 1.02, 1.36, 1.7 , 2.04, 2.38, 2.72, 3.06, 3.4 ]),\n",
       " <BarContainer object of 10 artists>)"
      ]
     },
     "execution_count": 20,
     "metadata": {},
     "output_type": "execute_result"
    },
    {
     "data": {
      "image/png": "[encoded data removed]",
      "text/plain": [
       "<Figure size 432x288 with 1 Axes>"
      ]
     },
     "metadata": {
      "needs_background": "light"
     },
     "output_type": "display_data"
    }
   ],
   "source": [
    "# plt.hist(rewards.mean(axis = 0))\n",
    "# plt.hist(e_rewards.mean(axis = 0))"
   ]
  },
  {
   "cell_type": "code",
   "execution_count": null,
   "metadata": {},
   "outputs": [
    {
     "data": {
      "text/plain": [
       "(array([    0.,     0.,     0.,     0.,     0., 73152.,     0.,     0.,\n",
       "            0.,     0.]),\n",
       " array([3.5, 3.6, 3.7, 3.8, 3.9, 4. , 4.1, 4.2, 4.3, 4.4, 4.5]),\n",
       " <BarContainer object of 10 artists>)"
      ]
     },
     "execution_count": 21,
     "metadata": {},
     "output_type": "execute_result"
    },
    {
     "data": {
      "image/png": "[encoded data removed]",
      "text/plain": [
       "<Figure size 432x288 with 1 Axes>"
      ]
     },
     "metadata": {
      "needs_background": "light"
     },
     "output_type": "display_data"
    }
   ],
   "source": [
    "# plt.hist(opt_rewards.mean(axis = 0))\n",
    "# plt.hist(e_opt_rewards.mean(axis = 0))"
   ]
  },
  {
   "cell_type": "code",
   "execution_count": null,
   "metadata": {},
   "outputs": [],
   "source": []
  }
 ],
 "metadata": {
  "interpreter": {
   "hash": "767d51c1340bd893661ea55ea3124f6de3c7a262a8b4abca0554b478b1e2ff90"
  },
  "kernelspec": {
   "display_name": "Python 3.6.9 64-bit",
   "language": "python",
   "name": "python3"
  },
  "language_info": {
   "codemirror_mode": {
    "name": "ipython",
    "version": 3
   },
   "file_extension": ".py",
   "mimetype": "text/x-python",
   "name": "python",
   "nbconvert_exporter": "python",
   "pygments_lexer": "ipython3",
   "version": "3.6.9"
  },
  "orig_nbformat": 4
 },
 "nbformat": 4,
 "nbformat_minor": 2
}
