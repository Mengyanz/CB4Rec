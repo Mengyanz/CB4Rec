{
 "cells": [
  {
   "cell_type": "code",
   "execution_count": 1,
   "metadata": {},
   "outputs": [],
   "source": [
    "from pathlib import Path\n",
    "import pickle\n",
    "import numpy as np\n",
    "import matplotlib.pyplot as plt\n",
    "import os"
   ]
  },
  {
   "cell_type": "code",
   "execution_count": 2,
   "metadata": {},
   "outputs": [],
   "source": [
    "\n",
    "dataset = 'demo'\n",
    "path = 'rec1_ftF_simF'\n",
    "save_path = os.path.join(\"/home/v-mezhang/blob-plm/model/\", dataset, path)"
   ]
  },
  {
   "cell_type": "code",
   "execution_count": 3,
   "metadata": {},
   "outputs": [],
   "source": [
    "policy = 'epsilon_greedy'\n",
    "paras = [0.0, 0.1] # '1overt'\n",
    "rewards = {}\n",
    "opt_rewards = {}"
   ]
  },
  {
   "cell_type": "code",
   "execution_count": 4,
   "metadata": {},
   "outputs": [
    {
     "data": {
      "text/plain": [
       "['epsilon_greedy_0.0', 'epsilon_greedy_0.1']"
      ]
     },
     "execution_count": 4,
     "metadata": {},
     "output_type": "execute_result"
    }
   ],
   "source": [
    "# policy_names = ['ucb_0.1', 'ucb_logt'] # 'ucb_0.1'\n",
    "policy_names = []\n",
    "for para in paras:\n",
    "    policy_name = policy + '_' + str(para)\n",
    "    policy_names.append(policy_name)\n",
    "\n",
    "policy_names"
   ]
  },
  {
   "cell_type": "code",
   "execution_count": 5,
   "metadata": {},
   "outputs": [],
   "source": [
    "for policy_name in policy_names:\n",
    "    with open(os.path.join(save_path, (policy_name + \"_rewards.pkl\")), \"rb\") as f:\n",
    "        rewards[policy_name] = pickle.load(f)\n",
    "    with open(os.path.join(save_path, (policy_name+ \"_opt_rewards.pkl\")), \"rb\") as f:\n",
    "        opt_rewards[policy_name] = pickle.load(f)\n"
   ]
  },
  {
   "cell_type": "code",
   "execution_count": 6,
   "metadata": {},
   "outputs": [],
   "source": [
    "cumu_regrets = {}\n",
    "for para in policy_names:\n",
    "    num_exper, num_sam = rewards[para].shape\n",
    "    cumu_regrets[para] = np.zeros((num_exper, num_sam))\n",
    "    for i in range(num_exper):\n",
    "        cumu_reward = 0\n",
    "        cumu_opt_reward = 0\n",
    "\n",
    "        for j in range(num_sam):\n",
    "            cumu_reward += rewards[para][i,j]\n",
    "            cumu_opt_reward += opt_rewards[para][i,j]\n",
    "            cumu_regrets[para][i,j] = (cumu_opt_reward - cumu_reward) /(j+1)"
   ]
  },
  {
   "cell_type": "code",
   "execution_count": 10,
   "metadata": {},
   "outputs": [
    {
     "data": {
      "text/plain": [
       "<matplotlib.legend.Legend at 0x7f1c9883f358>"
      ]
     },
     "execution_count": 10,
     "metadata": {},
     "output_type": "execute_result"
    },
    {
     "data": {
      "image/png": "[encoded data removed]",
      "text/plain": [
       "<Figure size 432x288 with 1 Axes>"
      ]
     },
     "metadata": {
      "needs_background": "light"
     },
     "output_type": "display_data"
    }
   ],
   "source": [
    "for policy_name, value in cumu_regrets.items():\n",
    "    plt.plot(range(num_sam), value.mean(axis=0), label = policy_name)\n",
    "plt.legend()\n"
   ]
  },
  {
   "cell_type": "code",
   "execution_count": 8,
   "metadata": {},
   "outputs": [
    {
     "data": {
      "text/plain": [
       "<matplotlib.legend.Legend at 0x7f1c9930ee10>"
      ]
     },
     "execution_count": 8,
     "metadata": {},
     "output_type": "execute_result"
    },
    {
     "data": {
      "image/png": "[encoded data removed]",
      "text/plain": [
       "<Figure size 432x288 with 1 Axes>"
      ]
     },
     "metadata": {
      "needs_background": "light"
     },
     "output_type": "display_data"
    }
   ],
   "source": [
    "for policy_name, value in rewards.items():\n",
    "    # if policy_name in ['epsilon_greedy_0', 'epsilon_greedy_0.1']:\n",
    "    plt.hist(value.mean(axis = 0), label = policy_name, alpha = 0.2)\n",
    "plt.legend(bbox_to_anchor=(1.04,1), loc=\"upper left\")"
   ]
  },
  {
   "cell_type": "code",
   "execution_count": 9,
   "metadata": {},
   "outputs": [
    {
     "data": {
      "text/plain": [
       "<matplotlib.legend.Legend at 0x7f1c9924ef28>"
      ]
     },
     "execution_count": 9,
     "metadata": {},
     "output_type": "execute_result"
    },
    {
     "data": {
      "image/png": "[encoded data removed]",
      "text/plain": [
       "<Figure size 432x288 with 1 Axes>"
      ]
     },
     "metadata": {
      "needs_background": "light"
     },
     "output_type": "display_data"
    }
   ],
   "source": [
    "for policy_name, value in opt_rewards.items():\n",
    "    if policy_name in ['epsilon_greedy_0', 'epsilon_greedy_0.1']:\n",
    "        plt.hist(value.mean(axis = 0), label = policy_name, alpha = 0.2)\n",
    "plt.legend()"
   ]
  },
  {
   "cell_type": "code",
   "execution_count": null,
   "metadata": {},
   "outputs": [],
   "source": []
  }
 ],
 "metadata": {
  "interpreter": {
   "hash": "767d51c1340bd893661ea55ea3124f6de3c7a262a8b4abca0554b478b1e2ff90"
  },
  "kernelspec": {
   "display_name": "Python 3.6.9 64-bit",
   "language": "python",
   "name": "python3"
  },
  "language_info": {
   "codemirror_mode": {
    "name": "ipython",
    "version": 3
   },
   "file_extension": ".py",
   "mimetype": "text/x-python",
   "name": "python",
   "nbconvert_exporter": "python",
   "pygments_lexer": "ipython3",
   "version": "3.6.9"
  },
  "orig_nbformat": 4
 },
 "nbformat": 4,
 "nbformat_minor": 2
}
